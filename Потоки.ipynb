{
 "cells": [
  {
   "cell_type": "code",
   "execution_count": null,
   "metadata": {},
   "outputs": [],
   "source": [
    "import threading\n",
    "\n",
    "\n",
    "def my_thread(a, b):\n",
    "    print('sum:', a+b)\n",
    "\n",
    "\n",
    "def my_thread2(a, b):\n",
    "    print(\"*: \", a*b)\n",
    "\n",
    "\n",
    "def my_thread3(a, b):\n",
    "    print('a**b:', a**b)\n",
    "\n",
    "\n",
    "thr1 = threading.Thread(target=my_thread, args=(3, 4))\n",
    "thr2 = threading.Thread(target=my_thread2, args=(4, 7))\n",
    "thr3 = threading.Thread(target=my_thread3, args=(2, 3))\n",
    "\n",
    "thr1.start()\n",
    "thr2.start()\n",
    "thr3.start()\n"
   ]
  }
 ],
 "metadata": {
  "kernelspec": {
   "display_name": "Python 3.10.7 64-bit (microsoft store)",
   "language": "python",
   "name": "python3"
  },
  "language_info": {
   "name": "python",
   "version": "3.10.7"
  },
  "orig_nbformat": 4,
  "vscode": {
   "interpreter": {
    "hash": "09d71621f327080fa549669244a3a6f40894ee27dabcc7505ca917cc9e8da1af"
   }
  }
 },
 "nbformat": 4,
 "nbformat_minor": 2
}
